{
 "cells": [
  {
   "cell_type": "markdown",
   "metadata": {},
   "source": [
    "# 1. Text Cosine Similarity"
   ]
  },
  {
   "cell_type": "markdown",
   "metadata": {},
   "source": [
    "Given two strings, compute the cosine similarity between their word frequency vectors. Cosine similarity is defined as:\n",
    "Cosine Similarity=Dot Product of A and BMagnitude of A×Magnitude of B\n",
    "Cosine Similarity=Magnitude of A×Magnitude of BDot Product of A and B​\n",
    "\n",
    "Write a function to compute the cosine similarity between two strings. If either string is empty, return 0."
   ]
  },
  {
   "cell_type": "code",
   "execution_count": 9,
   "metadata": {},
   "outputs": [
    {
     "name": "stdout",
     "output_type": "stream",
     "text": [
      "Cosine Similarity: 0.6\n"
     ]
    }
   ],
   "source": [
    "# Import libraries\n",
    "from collections import Counter\n",
    "import math\n",
    "\n",
    "def compute_cosine_similarity(str1, str2):\n",
    "    \"\"\"Get the cosine similarity of two strings\"\"\"\n",
    "    freq1 = Counter(str1.lower().split())\n",
    "    freq2 = Counter(str2.lower().split())\n",
    "    \n",
    "    # Get the intersection of the two strings\n",
    "    dot_prodduct = sum(freq1[word] * freq2[word] for word in freq1.keys() & freq2.keys())\n",
    "    \n",
    "    # Mangitude of the two strings\n",
    "    mag1 = math.sqrt(sum(v ** 2 for v in freq1.values()))\n",
    "    mag2 = math.sqrt(sum(v ** 2 for v in freq2.values()))\n",
    "    \n",
    "    # Cosine similarity\n",
    "    return round(dot_prodduct / (mag1 * mag2), 3)\n",
    "    \n",
    "\n",
    "# Example usage\n",
    "str1 = \"TikTok is a popular platform\"\n",
    "str2 = \"TikTok platform is gaining popularity\"\n",
    "print(\"Cosine Similarity:\", compute_cosine_similarity(str1, str2))\n"
   ]
  },
  {
   "cell_type": "markdown",
   "metadata": {},
   "source": [
    "# 2. Predict Search Query Result Using Logistic Regression"
   ]
  },
  {
   "cell_type": "markdown",
   "metadata": {},
   "source": [
    "You are given a dataset of user search queries and whether the user clicked on the top result (0 or 1). Write a Python function to train a logistic regression model to predict if a user will click on the top result. Assume the dataset is provided as a CSV file with the following format:"
   ]
  },
  {
   "cell_type": "code",
   "execution_count": 10,
   "metadata": {},
   "outputs": [
    {
     "name": "stdout",
     "output_type": "stream",
     "text": [
      "Logistic Regression Coefficients: [-0.31305418  0.90310142], Intercept: 1.3397208660916742\n",
      "Test Accuracy: 0.6666666666666666\n"
     ]
    }
   ],
   "source": [
    "import pandas as pd\n",
    "from sklearn.linear_model import LogisticRegression\n",
    "from sklearn.model_selection import train_test_split\n",
    "from sklearn.metrics import accuracy_score\n",
    "\n",
    "def train_logistic_regression(file_path):\n",
    "    # Load the dataset\n",
    "    data = pd.read_csv(file_path)\n",
    "    \n",
    "    # Features and labels\n",
    "    X = data[['query_length', 'word_frequency']]\n",
    "    y = data['click']\n",
    "    \n",
    "    # Split the data\n",
    "    X_train, X_test, y_train, y_test = train_test_split(X, y, test_size=0.2, random_state=42)\n",
    "    \n",
    "    # Train logistic regression model\n",
    "    model = LogisticRegression()\n",
    "    model.fit(X_train, y_train)\n",
    "    \n",
    "    # Predict on test set\n",
    "    y_pred = model.predict(X_test)\n",
    "    accuracy = accuracy_score(y_test, y_pred)\n",
    "    \n",
    "    # Output coefficients\n",
    "    coefficients = model.coef_[0]\n",
    "    intercept = model.intercept_[0]\n",
    "    \n",
    "    print(f\"Logistic Regression Coefficients: {coefficients}, Intercept: {intercept}\")\n",
    "    print(f\"Test Accuracy: {accuracy}\")\n",
    "\n",
    "# Example usage\n",
    "train_logistic_regression(\"./data/dataset.csv\")\n"
   ]
  },
  {
   "cell_type": "markdown",
   "metadata": {},
   "source": [
    "# 3. Optimize Search Ranking Using Median of User Scores"
   ]
  },
  {
   "cell_type": "markdown",
   "metadata": {},
   "source": [
    "Write a function that calculates the median relevance score from a list of user ratings for search results. Your task is to sort the list and compute the median efficiently."
   ]
  },
  {
   "cell_type": "code",
   "execution_count": 11,
   "metadata": {},
   "outputs": [
    {
     "name": "stdout",
     "output_type": "stream",
     "text": [
      "Median: 4.0\n"
     ]
    }
   ],
   "source": [
    "def calculate_median(ratings):\n",
    "    # Sort the ratings\n",
    "    ratings.sort()\n",
    "    \n",
    "    # Calculate the median\n",
    "    n = len(ratings)\n",
    "    if n % 2 == 1:\n",
    "        return ratings[n // 2]\n",
    "    else:\n",
    "        mid = n // 2\n",
    "        return (ratings[mid - 1] + ratings[mid]) / 2\n",
    "\n",
    "# Example usage\n",
    "ratings = [4.5, 3.0, 5.0, 2.0, 4.0]\n",
    "print(\"Median:\", calculate_median(ratings))\n"
   ]
  },
  {
   "cell_type": "markdown",
   "metadata": {},
   "source": [
    "# 4. Neural Network Basics"
   ]
  },
  {
   "cell_type": "markdown",
   "metadata": {},
   "source": [
    "Implement a simple neural network forward pass for a single layer with the following inputs:\n",
    "\n",
    "    Input features: [0.5, 1.5]\n",
    "    Weights: [0.6, 0.2]\n",
    "    Bias: 0.1\n",
    "    Activation function: Sigmoid"
   ]
  },
  {
   "cell_type": "code",
   "execution_count": 12,
   "metadata": {},
   "outputs": [
    {
     "name": "stdout",
     "output_type": "stream",
     "text": [
      "Output of the neural network: 0.6681877721681662\n"
     ]
    }
   ],
   "source": [
    "import math\n",
    "\n",
    "def sigmoid(x):\n",
    "    return 1 / (1 + math.exp(-x))\n",
    "\n",
    "def forward_pass(inputs, weights, bias):\n",
    "    # Compute weighted sum\n",
    "    weighted_sum = sum(i * w for i, w in zip(inputs, weights)) + bias\n",
    "    \n",
    "    # Apply activation function\n",
    "    output = sigmoid(weighted_sum)\n",
    "    return output\n",
    "\n",
    "# Example usage\n",
    "inputs = [0.5, 1.5]\n",
    "weights = [0.6, 0.2]\n",
    "bias = 0.1\n",
    "print(\"Output of the neural network:\", forward_pass(inputs, weights, bias))\n"
   ]
  },
  {
   "cell_type": "markdown",
   "metadata": {},
   "source": [
    "# 5. Clustering Search Queries"
   ]
  },
  {
   "cell_type": "markdown",
   "metadata": {},
   "source": [
    "Implement K-means clustering to group similar search queries based on their length and frequency of specific keywords.\n",
    "\n",
    "Example Dataset:"
   ]
  },
  {
   "cell_type": "code",
   "execution_count": 15,
   "metadata": {},
   "outputs": [
    {
     "name": "stdout",
     "output_type": "stream",
     "text": [
      "   query_length  keyword_frequency  Cluster\n",
      "0             3               0.25        1\n",
      "1             5               0.15        0\n",
      "2             4               0.30        0\n",
      "3             2               0.40        1\n",
      "4             6               0.10        0\n"
     ]
    }
   ],
   "source": [
    "from sklearn.cluster import KMeans\n",
    "import pandas as pd\n",
    "\n",
    "def kmeans_clustering(file_path, k):\n",
    "    # Load data\n",
    "    data = pd.read_csv(file_path)\n",
    "    \n",
    "    # Train K-means\n",
    "    kmeans = KMeans(n_clusters=k, random_state=42)\n",
    "    kmeans.fit(data)\n",
    "    \n",
    "    # Assign clusters\n",
    "    data['Cluster'] = kmeans.labels_\n",
    "    return data\n",
    "\n",
    "# Example usage\n",
    "file_path = \"./data/dataset2.csv\"\n",
    "result = kmeans_clustering(file_path, k=2)\n",
    "print(result)\n"
   ]
  },
  {
   "cell_type": "markdown",
   "metadata": {},
   "source": [
    "# Find Missing Number"
   ]
  },
  {
   "cell_type": "code",
   "execution_count": 1,
   "metadata": {},
   "outputs": [
    {
     "name": "stdout",
     "output_type": "stream",
     "text": [
      "Missing number: 3\n"
     ]
    }
   ],
   "source": [
    "def find_missing_number(nums):\n",
    "    n = len(nums) + 1\n",
    "    total = n * (n + 1) // 2\n",
    "    return total - sum(nums)\n",
    "\n",
    "# Test the function\n",
    "nums = [1, 2, 4, 5, 6]\n",
    "print(\"Missing number:\", find_missing_number(nums))"
   ]
  },
  {
   "cell_type": "code",
   "execution_count": null,
   "metadata": {},
   "outputs": [],
   "source": []
  }
 ],
 "metadata": {
  "kernelspec": {
   "display_name": "py-env",
   "language": "python",
   "name": "python3"
  },
  "language_info": {
   "codemirror_mode": {
    "name": "ipython",
    "version": 3
   },
   "file_extension": ".py",
   "mimetype": "text/x-python",
   "name": "python",
   "nbconvert_exporter": "python",
   "pygments_lexer": "ipython3",
   "version": "3.11.11"
  }
 },
 "nbformat": 4,
 "nbformat_minor": 2
}
