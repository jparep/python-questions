{
 "cells": [
  {
   "cell_type": "markdown",
   "metadata": {},
   "source": [
    "# 1. Text Cosine Similarity"
   ]
  },
  {
   "cell_type": "code",
   "execution_count": 5,
   "metadata": {},
   "outputs": [
    {
     "name": "stdout",
     "output_type": "stream",
     "text": [
      "Cosine Similarity: 0.6\n"
     ]
    }
   ],
   "source": [
    "# Import libraries\n",
    "from collections import Counter\n",
    "import math\n",
    "\n",
    "def compute_cosine_similarity(str1, str2):\n",
    "    \"\"\"Get the cosine similarity of two strings\"\"\"\n",
    "    freq1 = Counter(str1.lower().split())\n",
    "    freq2 = Counter(str2.lower().split())\n",
    "    \n",
    "    # Get the intersection of the two strings\n",
    "    dot_prodduct = sum(freq1[word] * freq2[word] for word in freq1.keys() & freq2.keys())\n",
    "    \n",
    "    # Mangitude of the two strings\n",
    "    mag1 = math.sqrt(sum(v ** 2 for v in freq1.values()))\n",
    "    mag2 = math.sqrt(sum(v ** 2 for v in freq2.values()))\n",
    "    \n",
    "    # Cosine similarity\n",
    "    return round(dot_prodduct / (mag1 * mag2), 3)\n",
    "    \n",
    "\n",
    "# Example usage\n",
    "str1 = \"TikTok is a popular platform\"\n",
    "str2 = \"TikTok platform is gaining popularity\"\n",
    "print(\"Cosine Similarity:\", compute_cosine_similarity(str1, str2))\n"
   ]
  },
  {
   "cell_type": "code",
   "execution_count": null,
   "metadata": {},
   "outputs": [],
   "source": []
  }
 ],
 "metadata": {
  "kernelspec": {
   "display_name": "py-env",
   "language": "python",
   "name": "python3"
  },
  "language_info": {
   "codemirror_mode": {
    "name": "ipython",
    "version": 3
   },
   "file_extension": ".py",
   "mimetype": "text/x-python",
   "name": "python",
   "nbconvert_exporter": "python",
   "pygments_lexer": "ipython3",
   "version": "3.11.11"
  }
 },
 "nbformat": 4,
 "nbformat_minor": 2
}
