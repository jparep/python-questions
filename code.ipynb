{
 "cells": [
  {
   "cell_type": "markdown",
   "metadata": {},
   "source": [
    "# 1. Text Cosine Similarity"
   ]
  },
  {
   "cell_type": "code",
   "execution_count": 3,
   "metadata": {},
   "outputs": [],
   "source": [
    "# Import libraries\n",
    "from collections import Counter\n",
    "import math\n",
    "\n",
    "def text_cosine_similarities(str1, str2):\n",
    "    \"\"\"Get the cosine similarity of two strings\"\"\"\n",
    "    freq1 = Counter(str1.lower().split())\n",
    "    freq2 = Counter(str2.lower().split())\n",
    "    \n",
    "    # Get the intersection of the two strings\n",
    "    dot_prodduct = sum(freq1[word] * freq2[word] for word in freq1.key() & freq2.key())\n",
    "    "
   ]
  }
 ],
 "metadata": {
  "kernelspec": {
   "display_name": "py-env",
   "language": "python",
   "name": "python3"
  },
  "language_info": {
   "codemirror_mode": {
    "name": "ipython",
    "version": 3
   },
   "file_extension": ".py",
   "mimetype": "text/x-python",
   "name": "python",
   "nbconvert_exporter": "python",
   "pygments_lexer": "ipython3",
   "version": "3.11.11"
  }
 },
 "nbformat": 4,
 "nbformat_minor": 2
}
